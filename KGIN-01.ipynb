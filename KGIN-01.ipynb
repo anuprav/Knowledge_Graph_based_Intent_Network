{
 "cells": [
  {
   "cell_type": "code",
   "execution_count": null,
   "metadata": {
    "id": "2l3jJqPd27je"
   },
   "outputs": [],
   "source": [
    "import os"
   ]
  },
  {
   "cell_type": "code",
   "execution_count": null,
   "metadata": {
    "colab": {
     "base_uri": "https://localhost:8080/"
    },
    "executionInfo": {
     "elapsed": 17,
     "status": "ok",
     "timestamp": 1627482666964,
     "user": {
      "displayName": "Anup Rav",
      "photoUrl": "https://lh3.googleusercontent.com/a-/AOh14GgznlLMQNzcW8Wdffyx0b5hF3ZyRbguvt4VpZyLBq8=s64",
      "userId": "05557089206581648262"
     },
     "user_tz": -330
    },
    "id": "hNUb3THBfZQJ",
    "outputId": "0ea670e9-0e7d-40b2-f99d-8a13eb6142b5"
   },
   "outputs": [
    {
     "name": "stdout",
     "output_type": "stream",
     "text": [
      "Wed Jul 28 14:31:06 2021       \n",
      "+-----------------------------------------------------------------------------+\n",
      "| NVIDIA-SMI 470.42.01    Driver Version: 460.32.03    CUDA Version: 11.2     |\n",
      "|-------------------------------+----------------------+----------------------+\n",
      "| GPU  Name        Persistence-M| Bus-Id        Disp.A | Volatile Uncorr. ECC |\n",
      "| Fan  Temp  Perf  Pwr:Usage/Cap|         Memory-Usage | GPU-Util  Compute M. |\n",
      "|                               |                      |               MIG M. |\n",
      "|===============================+======================+======================|\n",
      "|   0  Tesla P100-PCIE...  Off  | 00000000:00:04.0 Off |                    0 |\n",
      "| N/A   35C    P0    26W / 250W |      0MiB / 16280MiB |      0%      Default |\n",
      "|                               |                      |                  N/A |\n",
      "+-------------------------------+----------------------+----------------------+\n",
      "                                                                               \n",
      "+-----------------------------------------------------------------------------+\n",
      "| Processes:                                                                  |\n",
      "|  GPU   GI   CI        PID   Type   Process name                  GPU Memory |\n",
      "|        ID   ID                                                   Usage      |\n",
      "|=============================================================================|\n",
      "|  No running processes found                                                 |\n",
      "+-----------------------------------------------------------------------------+\n"
     ]
    }
   ],
   "source": [
    "gpu_info = !nvidia-smi\n",
    "gpu_info = '\\n'.join(gpu_info)\n",
    "if gpu_info.find('failed') >= 0:\n",
    "  print('Select the Runtime > \"Change runtime type\" menu to enable a GPU accelerator, ')\n",
    "  print('and then re-execute this cell.')\n",
    "else:\n",
    "  print(gpu_info)"
   ]
  },
  {
   "cell_type": "code",
   "execution_count": null,
   "metadata": {
    "id": "zgrWgSk138yH"
   },
   "outputs": [],
   "source": [
    "os.chdir('/content/drive/MyDrive/Colab Notebooks/NGCF-PyTorch/NGCF/')"
   ]
  },
  {
   "cell_type": "code",
   "execution_count": null,
   "metadata": {
    "colab": {
     "base_uri": "https://localhost:8080/"
    },
    "id": "x3YF1nyh4zeR",
    "outputId": "9c931c7b-4672-41cb-a962-0119fd30261e"
   },
   "outputs": [
    {
     "name": "stdout",
     "output_type": "stream",
     "text": [
      "n_users=52643, n_items=91599\n",
      "n_interactions=2984108\n",
      "n_train=2380730, n_test=603378, sparsity=0.00062\n",
      "already load adj matrix (144242, 144242) 0.6714670658111572\n",
      "Epoch 0 [487.7s]: train==[618.34045=618.23077 + 0.10878]\n",
      "Epoch 9 [488.6s + 1721.9s]: train==[166.93042=166.71812 + 0.21227], recall=[0.02439, 0.08381], precision=[0.01072, 0.00771], hit=[0.16965, 0.43255], ndcg=[0.01889, 0.03940]\n",
      "save the weights in path:  model/9.pkl\n",
      "Epoch 19 [492.2s + 1726.5s]: train==[97.12160=96.82020 + 0.30150], recall=[0.02563, 0.08794], precision=[0.01114, 0.00798], hit=[0.17498, 0.43983], ndcg=[0.01969, 0.04114]\n",
      "save the weights in path:  model/19.pkl\n",
      "Epoch 29 [492.7s + 1719.2s]: train==[70.42224=70.05193 + 0.37031], recall=[0.02724, 0.09279], precision=[0.01174, 0.00832], hit=[0.18256, 0.45366], ndcg=[0.02110, 0.04364]\n",
      "save the weights in path:  model/29.pkl\n",
      "Epoch 39 [493.9s + 1931.1s]: train==[55.26741=54.83919 + 0.42818], recall=[0.02865, 0.09600], precision=[0.01224, 0.00860], hit=[0.18764, 0.46443], ndcg=[0.02229, 0.04545]\n",
      "save the weights in path:  model/39.pkl\n",
      "Epoch 49 [493.1s + 1830.9s]: train==[46.03576=45.55627 + 0.47945], recall=[0.02902, 0.09780], precision=[0.01244, 0.00874], hit=[0.19146, 0.47007], ndcg=[0.02251, 0.04614]\n",
      "save the weights in path:  model/49.pkl\n",
      "Epoch 50 [491.6s]: train==[45.00406=44.51978 + 0.48425]\n",
      "Epoch 59 [491.1s + 1737.5s]: train==[38.84004=38.31453 + 0.52553], recall=[0.02978, 0.09831], precision=[0.01259, 0.00875], hit=[0.19244, 0.46918], ndcg=[0.02292, 0.04649]\n",
      "save the weights in path:  model/59.pkl\n"
     ]
    }
   ],
   "source": [
    "!python main.py --dataset amazon-book --regs [1e-5] --embed_size 64 --layer_size [64,64,64] --lr 0.0005 --save_flag 1 --pretrain 0 --batch_size 1024 --epoch 200 --verbose 50 --node_dropout [0.1] --mess_dropout [0.1,0.1,0.1]"
   ]
  },
  {
   "cell_type": "code",
   "execution_count": 1,
   "metadata": {},
   "outputs": [],
   "source": [
    "path = '../Data/amazon-book/'\n",
    "train_file = path + '/train.txt'\n",
    "test_file = path + '/test.txt'\n",
    "\n",
    "#get number of users and items\n",
    "n_users, n_items = 0, 0\n",
    "n_train, n_test = 0, 0\n",
    "neg_pools = {}\n",
    "\n",
    "exist_users = []"
   ]
  },
  {
   "cell_type": "code",
   "execution_count": 2,
   "metadata": {},
   "outputs": [
    {
     "ename": "ValueError",
     "evalue": "invalid literal for int() with base 10: ''",
     "output_type": "error",
     "traceback": [
      "\u001b[1;31m---------------------------------------------------------------------------\u001b[0m",
      "\u001b[1;31mValueError\u001b[0m                                Traceback (most recent call last)",
      "\u001b[1;32m<ipython-input-2-f4f2e6d55277>\u001b[0m in \u001b[0;36m<module>\u001b[1;34m\u001b[0m\n\u001b[0;32m      3\u001b[0m         \u001b[1;32mif\u001b[0m \u001b[0mlen\u001b[0m\u001b[1;33m(\u001b[0m\u001b[0ml\u001b[0m\u001b[1;33m)\u001b[0m \u001b[1;33m>\u001b[0m \u001b[1;36m0\u001b[0m\u001b[1;33m:\u001b[0m\u001b[1;33m\u001b[0m\u001b[0m\n\u001b[0;32m      4\u001b[0m             \u001b[0ml\u001b[0m \u001b[1;33m=\u001b[0m \u001b[0ml\u001b[0m\u001b[1;33m.\u001b[0m\u001b[0mstrip\u001b[0m\u001b[1;33m(\u001b[0m\u001b[1;34m'\\n'\u001b[0m\u001b[1;33m)\u001b[0m\u001b[1;33m.\u001b[0m\u001b[0msplit\u001b[0m\u001b[1;33m(\u001b[0m\u001b[1;34m' '\u001b[0m\u001b[1;33m)\u001b[0m\u001b[1;33m\u001b[0m\u001b[0m\n\u001b[1;32m----> 5\u001b[1;33m             \u001b[0mitems\u001b[0m \u001b[1;33m=\u001b[0m \u001b[1;33m[\u001b[0m\u001b[0mint\u001b[0m\u001b[1;33m(\u001b[0m\u001b[0mi\u001b[0m\u001b[1;33m)\u001b[0m \u001b[1;32mfor\u001b[0m \u001b[0mi\u001b[0m \u001b[1;32min\u001b[0m \u001b[0ml\u001b[0m\u001b[1;33m[\u001b[0m\u001b[1;36m1\u001b[0m\u001b[1;33m:\u001b[0m\u001b[1;33m]\u001b[0m\u001b[1;33m]\u001b[0m\u001b[1;33m\u001b[0m\u001b[0m\n\u001b[0m\u001b[0;32m      6\u001b[0m             \u001b[0muid\u001b[0m \u001b[1;33m=\u001b[0m \u001b[0mint\u001b[0m\u001b[1;33m(\u001b[0m\u001b[0ml\u001b[0m\u001b[1;33m[\u001b[0m\u001b[1;36m0\u001b[0m\u001b[1;33m]\u001b[0m\u001b[1;33m)\u001b[0m\u001b[1;33m\u001b[0m\u001b[0m\n\u001b[0;32m      7\u001b[0m             \u001b[0mexist_users\u001b[0m\u001b[1;33m.\u001b[0m\u001b[0mappend\u001b[0m\u001b[1;33m(\u001b[0m\u001b[0muid\u001b[0m\u001b[1;33m)\u001b[0m\u001b[1;33m\u001b[0m\u001b[0m\n",
      "\u001b[1;32m<ipython-input-2-f4f2e6d55277>\u001b[0m in \u001b[0;36m<listcomp>\u001b[1;34m(.0)\u001b[0m\n\u001b[0;32m      3\u001b[0m         \u001b[1;32mif\u001b[0m \u001b[0mlen\u001b[0m\u001b[1;33m(\u001b[0m\u001b[0ml\u001b[0m\u001b[1;33m)\u001b[0m \u001b[1;33m>\u001b[0m \u001b[1;36m0\u001b[0m\u001b[1;33m:\u001b[0m\u001b[1;33m\u001b[0m\u001b[0m\n\u001b[0;32m      4\u001b[0m             \u001b[0ml\u001b[0m \u001b[1;33m=\u001b[0m \u001b[0ml\u001b[0m\u001b[1;33m.\u001b[0m\u001b[0mstrip\u001b[0m\u001b[1;33m(\u001b[0m\u001b[1;34m'\\n'\u001b[0m\u001b[1;33m)\u001b[0m\u001b[1;33m.\u001b[0m\u001b[0msplit\u001b[0m\u001b[1;33m(\u001b[0m\u001b[1;34m' '\u001b[0m\u001b[1;33m)\u001b[0m\u001b[1;33m\u001b[0m\u001b[0m\n\u001b[1;32m----> 5\u001b[1;33m             \u001b[0mitems\u001b[0m \u001b[1;33m=\u001b[0m \u001b[1;33m[\u001b[0m\u001b[0mint\u001b[0m\u001b[1;33m(\u001b[0m\u001b[0mi\u001b[0m\u001b[1;33m)\u001b[0m \u001b[1;32mfor\u001b[0m \u001b[0mi\u001b[0m \u001b[1;32min\u001b[0m \u001b[0ml\u001b[0m\u001b[1;33m[\u001b[0m\u001b[1;36m1\u001b[0m\u001b[1;33m:\u001b[0m\u001b[1;33m]\u001b[0m\u001b[1;33m]\u001b[0m\u001b[1;33m\u001b[0m\u001b[0m\n\u001b[0m\u001b[0;32m      6\u001b[0m             \u001b[0muid\u001b[0m \u001b[1;33m=\u001b[0m \u001b[0mint\u001b[0m\u001b[1;33m(\u001b[0m\u001b[0ml\u001b[0m\u001b[1;33m[\u001b[0m\u001b[1;36m0\u001b[0m\u001b[1;33m]\u001b[0m\u001b[1;33m)\u001b[0m\u001b[1;33m\u001b[0m\u001b[0m\n\u001b[0;32m      7\u001b[0m             \u001b[0mexist_users\u001b[0m\u001b[1;33m.\u001b[0m\u001b[0mappend\u001b[0m\u001b[1;33m(\u001b[0m\u001b[0muid\u001b[0m\u001b[1;33m)\u001b[0m\u001b[1;33m\u001b[0m\u001b[0m\n",
      "\u001b[1;31mValueError\u001b[0m: invalid literal for int() with base 10: ''"
     ]
    }
   ],
   "source": [
    "with open(train_file) as f:\n",
    "    for l in f.readlines():\n",
    "        if len(l) > 0:\n",
    "            l = l.strip('\\n').split(' ')\n",
    "            items = [int(i) for i in l[1:]]\n",
    "            uid = int(l[0])\n",
    "            exist_users.append(uid)\n",
    "            n_items = max(n_items, max(items))\n",
    "            n_users = max(n_users, uid)\n",
    "            n_train += len(items)"
   ]
  },
  {
   "cell_type": "code",
   "execution_count": 3,
   "metadata": {},
   "outputs": [],
   "source": [
    "with open(test_file) as f:\n",
    "    for l in f.readlines():\n",
    "        if len(l) > 0:\n",
    "            l = l.strip('\\n')\n",
    "            try:\n",
    "                items = [int(i) for i in l.split(' ')[1:]]\n",
    "            except Exception:\n",
    "                continue\n",
    "            n_items = max(n_items, max(items))\n",
    "            n_test += len(items)"
   ]
  },
  {
   "cell_type": "code",
   "execution_count": 4,
   "metadata": {},
   "outputs": [],
   "source": [
    "n_items += 1\n",
    "n_users += 1\n",
    "\n",
    "def print_statistics():\n",
    "    print('n_users=%d, n_items=%d' % (n_users, n_items))\n",
    "    print('n_interactions=%d' % (n_train + n_test))\n",
    "    print('n_train=%d, n_test=%d, sparsity=%.5f' % (n_train, n_test, (n_train + n_test)/(n_users * n_items)))"
   ]
  },
  {
   "cell_type": "code",
   "execution_count": 5,
   "metadata": {},
   "outputs": [
    {
     "name": "stdout",
     "output_type": "stream",
     "text": [
      "n_users=13647, n_items=91599\n",
      "n_interactions=801466\n",
      "n_train=198088, n_test=603378, sparsity=0.00064\n"
     ]
    }
   ],
   "source": [
    "print_statistics()"
   ]
  },
  {
   "cell_type": "code",
   "execution_count": 12,
   "metadata": {},
   "outputs": [],
   "source": [
    "import scipy.sparse as sp\n",
    "import numpy as np\n",
    "R = sp.dok_matrix((n_users, n_items), dtype=np.float32)"
   ]
  },
  {
   "cell_type": "code",
   "execution_count": 16,
   "metadata": {},
   "outputs": [],
   "source": [
    "train_items, test_set = {}, {}\n",
    "with open(train_file) as f_train:\n",
    "    with open(test_file) as f_test:\n",
    "        for l in f_train.readlines():\n",
    "            if len(l) == 0:\n",
    "                break\n",
    "            l = l.strip('\\n')\n",
    "            items = [int(i) for i in l.split(' ')]\n",
    "            uid, train_items = items[0], items[1:]\n",
    "\n",
    "            for i in train_items:\n",
    "                R[uid, i] = 1.\n",
    "                # R[uid][i] = 1\n",
    "            try:\n",
    "                train_items[uid] = train_items\n",
    "            except Exception:\n",
    "                continue\n",
    "\n",
    "        for l in f_test.readlines():\n",
    "            if len(l) == 0: break\n",
    "            l = l.strip('\\n')\n",
    "            try:\n",
    "                items = [int(i) for i in l.split(' ')]\n",
    "            except Exception:\n",
    "                continue\n",
    "\n",
    "            uid, test_items = items[0], items[1:]\n",
    "            test_set[uid] = test_items"
   ]
  },
  {
   "cell_type": "code",
   "execution_count": 19,
   "metadata": {},
   "outputs": [],
   "source": [
    "from time import time\n",
    "def get_adj_mat():\n",
    "    try:\n",
    "        t1 = time()\n",
    "        adj_mat = sp.load_npz(path + '/s_adj_mat.npz')\n",
    "        norm_adj_mat = sp.load_npz(path + '/s_norm_adj_mat.npz')\n",
    "        mean_adj_mat = sp.load_npz(path + '/s_mean_adj_mat.npz')\n",
    "        print('already load adj matrix', adj_mat.shape, time() - t1)\n",
    "\n",
    "    except Exception:\n",
    "        adj_mat, norm_adj_mat, mean_adj_mat = create_adj_mat()\n",
    "        sp.save_npz(path + '/s_adj_mat.npz', adj_mat)\n",
    "        sp.save_npz(path + '/s_norm_adj_mat.npz', norm_adj_mat)\n",
    "        sp.save_npz(path + '/s_mean_adj_mat.npz', mean_adj_mat)\n",
    "    return adj_mat, norm_adj_mat, mean_adj_mat"
   ]
  },
  {
   "cell_type": "code",
   "execution_count": 20,
   "metadata": {},
   "outputs": [
    {
     "name": "stdout",
     "output_type": "stream",
     "text": [
      "already load adj matrix (144242, 144242) 0.48089098930358887\n"
     ]
    }
   ],
   "source": [
    "plain_adj, norm_adj, mean_adj = get_adj_mat()"
   ]
  },
  {
   "cell_type": "code",
   "execution_count": 24,
   "metadata": {},
   "outputs": [
    {
     "name": "stdout",
     "output_type": "stream",
     "text": [
      "(144242, 144242)\n"
     ]
    }
   ],
   "source": [
    "print(mean_adj.shape)"
   ]
  },
  {
   "cell_type": "code",
   "execution_count": 33,
   "metadata": {},
   "outputs": [],
   "source": [
    "import random as rd\n",
    "def sample_pos_items_for_u(u, num):\n",
    "    # sample num pos items for u-th user\n",
    "    pos_items = train_items[u]\n",
    "    n_pos_items = len(pos_items)\n",
    "    pos_batch = []\n",
    "    while True:\n",
    "        if len(pos_batch) == num:\n",
    "            break\n",
    "        pos_id = np.random.randint(low=0, high=n_pos_items, size=1)[0]\n",
    "        pos_i_id = pos_items[pos_id]\n",
    "\n",
    "        if pos_i_id not in pos_batch:\n",
    "            pos_batch.append(pos_i_id)\n",
    "    return pos_batch"
   ]
  },
  {
   "cell_type": "code",
   "execution_count": 35,
   "metadata": {},
   "outputs": [],
   "source": [
    "def sample_neg_items_for_u(u, num):\n",
    "    # sample num neg items for u-th user\n",
    "    neg_items = []\n",
    "    while True:\n",
    "        if len(neg_items) == num:\n",
    "            break\n",
    "        neg_id = np.random.randint(low=0, high=n_items,size=1)[0]\n",
    "        if neg_id not in train_items[u] and neg_id not in neg_items:\n",
    "            neg_items.append(neg_id)\n",
    "    return neg_items"
   ]
  },
  {
   "cell_type": "code",
   "execution_count": 36,
   "metadata": {},
   "outputs": [],
   "source": [
    "def sample_neg_items_for_u_from_pools(u, num):\n",
    "    neg_items = list(set(neg_pools[u]) - set(train_items[u]))\n",
    "    return rd.sample(neg_items, num)"
   ]
  },
  {
   "cell_type": "code",
   "execution_count": 39,
   "metadata": {},
   "outputs": [],
   "source": [
    "def sample():\n",
    "    if batch_size <= n_users:\n",
    "        users = rd.sample(exist_users, batch_size)\n",
    "    else:\n",
    "        users = [rd.choice(exist_users) for _ in range(batch_size)]\n",
    "    #print(users)\n",
    "    pos_items, neg_items = [], []\n",
    "    for u in users:\n",
    "        pos_items += sample_pos_items_for_u(u, 1)\n",
    "        neg_items += sample_neg_items_for_u(u, 1)\n",
    "\n",
    "    return users, pos_items, neg_items"
   ]
  },
  {
   "cell_type": "code",
   "execution_count": 44,
   "metadata": {},
   "outputs": [
    {
     "name": "stdout",
     "output_type": "stream",
     "text": [
      "[37931, 24141, 31310, 32608, 32776, 1923, 7140, 8850, 551, 1352, 7156, 1006, 4089, 9163, 12653, 6315, 1868, 7230, 975, 1435, 5406, 23186, 10690, 10874]\n"
     ]
    }
   ],
   "source": [
    "print(train_items)\n",
    "#sample_pos_items_for_u(15817, 1)"
   ]
  },
  {
   "cell_type": "code",
   "execution_count": 40,
   "metadata": {},
   "outputs": [
    {
     "name": "stdout",
     "output_type": "stream",
     "text": [
      "52644\n",
      "[15817, 42849, 31781, 566, 21495, 19814, 41041, 9052, 38063, 35797, 40103, 1031, 29923, 42542, 6376, 39761, 37366, 6796, 6024, 22377, 29151, 38151, 5128, 36302, 22079, 39361, 34908, 30657, 24127, 9758, 48542, 25239, 35126, 5831, 25531, 4334, 7254, 42859, 26612, 11365, 5913, 9813, 32748, 45742, 2980, 11015, 23021, 31522, 1610, 44559, 25040, 17293, 28714, 21657, 14930, 21970, 46743, 37327, 52506, 18040, 27243, 7962, 27445, 40749, 15210, 20790, 48230, 11314, 19011, 4184, 19873, 44805, 20831, 29205, 21405, 7848, 29631, 30354, 1339, 6942, 18195, 50013, 34976, 37639, 44678, 35153, 7210, 5815, 31470, 17018, 12392, 8156, 26128, 6896, 7312, 9050, 14927, 29668, 41247, 34764, 29303, 39641, 10489, 45283, 3534, 50400, 37208, 44527, 26400, 14851, 17720, 42566, 24056, 2232, 48462, 33796, 48318, 17292, 13949, 35656, 5711, 22721, 45633, 25840, 21704, 10519, 34264, 2559, 12794, 40979, 47471, 41700, 47319, 41631, 13478, 30150, 33609, 11514, 18709, 2152, 38405, 3580, 32109, 19778, 32009, 24788, 31211, 24549, 39624, 31587, 44030, 38386, 38492, 4965, 19470, 13301, 18796, 14807, 38560, 15224, 4939, 40887, 26709, 21870, 22043, 6326, 44789, 14473, 14957, 26409, 26960, 45084, 3730, 4901, 7994, 5281, 45054, 48751, 22797, 40642, 14987, 20777, 18091, 41563, 38848, 17731, 38315, 1861, 42608, 24820, 30243, 11490, 16109, 29276, 5810, 5304, 1889, 34277, 10409, 39062, 13693, 47017, 36174, 6302, 30210, 22831, 15567, 37167, 4529, 52239, 51413, 17548, 41319, 42558, 48531, 42333, 16868, 8245, 50045, 42841, 1641, 41296, 11814, 32528, 4458, 23329, 47548, 8902, 40000, 48173, 22437, 9193, 3401, 19558, 33230, 45693, 34892, 39426, 44798, 44841, 48408, 24166, 25025, 25970, 6415, 6667, 22889, 48788, 51089, 4307, 8838, 15034, 12, 7492, 41917, 52485, 39237, 35492, 45049, 38347, 7780, 39483, 8824, 49166, 35282, 23598, 37679, 19149, 19450, 25278, 20284, 45563, 10873, 50268, 8451, 48084, 42535, 18862, 46598, 4209, 14425, 32387, 40095, 48207, 7341, 46180, 48855, 3888, 49032, 9240, 4347, 42210, 12130, 4468, 4101, 8410, 15157, 42929, 21711, 49868, 47909, 51569, 39042, 17149, 32392, 36084, 40042, 9557, 51732, 11931, 11492, 37874, 43235, 12659, 39013, 36111, 37839, 21385, 4656, 28073, 4023, 48787, 31073, 11262, 27691, 22745, 27026, 25627, 33514, 25621, 27649, 23761, 5922, 40783, 42721, 37923, 18111, 22281, 35384, 37151, 46404, 925, 13002, 21525, 43794, 37413, 10244, 47904, 13270, 46603, 32474, 6031, 23800, 27089, 29125, 41668, 29471, 4673, 6604, 6176, 748, 30368, 2315, 22527, 31086, 4213, 31256, 43943, 43104, 2913, 46501, 7437, 38662, 5710, 44340, 29411, 2849, 40008, 27206, 3340, 36599, 9060, 40633, 15287, 16231, 22476, 13671, 36484, 10198, 24839, 7403, 33987, 2240, 29650, 25192, 51628, 49216, 18997, 51471, 24133, 4175, 13331, 15995, 48557, 3934, 19559, 35572, 2682, 17275, 937, 3069, 51234, 14956, 39046, 30822, 37304, 29736, 18823, 14768, 22202, 20637, 13138, 6180, 29621, 41070, 52015, 7478, 9729, 28506, 48650, 15176, 11552, 46572, 15589, 45153, 29187, 619, 44596, 10353, 16967, 4528, 45656, 23772, 46570, 16448, 44388, 41987, 7715, 958, 18193, 27969, 17461, 26113, 7564, 6797, 32967, 49890, 31373, 45499, 7860, 51938, 36353, 31395, 18967, 33701, 30053, 35023, 15623, 28519, 25089, 17150, 4035, 46497, 22379, 1250, 31471, 47244, 2671, 48478, 23089, 38896, 24691, 13727, 5009, 14317, 42874, 48573, 25856, 3461, 44984, 8011, 2843, 7428, 29118, 43482, 44237, 39265, 14446, 15393, 13463, 31462, 10429, 37716, 36287, 40263, 44533, 31044, 50881, 26412, 47740, 45089, 20155, 15203, 1211, 18223, 50296, 32118, 42387, 1131, 16653, 30022, 11519, 44892, 11334, 44053, 43682, 10520, 11826, 34985, 31322, 26808, 6497, 48660, 26922, 12246, 41198, 5957, 8319, 50239, 38435, 51511, 40966, 49050, 13844, 17886, 28105, 39103, 20947, 45880, 12584, 48432, 48308, 33650, 26851, 42824, 32875, 18466, 5932, 51382, 43898, 34872, 50526, 51334, 7987, 13279, 29772, 47452, 25184, 18537, 21348, 28723, 41741, 31534, 25384, 13344, 21789, 2477, 5488, 13979, 7200, 49370, 44136, 49005, 38686, 18665, 37731, 14381, 52070, 36404, 48797, 43788, 33528, 4430, 45029, 23360, 18541, 13977, 16891, 40187, 36055, 25492, 28302, 22641, 1206, 8001, 35202, 20588, 1248, 29954, 49000, 35815, 24422, 44280, 22651, 21848, 49085, 10575, 44656, 38891, 681, 27378, 28778, 36920, 28875, 51752, 14386, 41866, 23384, 46912, 15234, 42015, 35197, 11654, 14847, 17574, 46267, 14567, 1268, 31132, 24475, 7889, 340, 27528, 47645, 33108, 20872, 3378, 35831, 12133, 44470, 4955, 8796, 47171, 42105, 3849, 13055, 19387, 34656, 21388, 32222, 32596, 19201, 15325, 43533, 15989, 3261, 22704, 40844, 27117, 45365, 6172, 51236, 50477, 30764, 9326, 13739, 29137, 23422, 27594, 52424, 30295, 39537, 50151, 23790, 30106, 12381, 33114, 9431, 39274, 29716, 44220, 46174, 14253, 26798, 27612, 15050, 5793, 11454, 49266, 36950, 1929, 27994, 29804, 15818, 18084, 36365, 36361, 40548, 9356, 23076, 16147, 19030, 11467, 2255, 26311, 26162, 40234, 27751, 27522, 51818, 24795, 3768, 12461, 3823, 15214, 18073, 4747, 26030, 50646, 47970, 29662, 33816, 47669, 23119, 34268, 22064, 30287, 33208, 39649, 41944, 43899, 6570, 6202, 21971, 21537, 37390, 18907, 11252, 48075, 46470, 41658, 21494, 42909, 4721, 41808, 23040, 47633, 27526, 26568, 34744, 27179, 38622, 36197, 22980, 6149, 19904, 9716, 33842, 3920, 4024, 41626, 49075, 7605, 12742, 26229, 44270, 23087, 8135, 51804, 16706, 35946, 25522, 11845, 24513, 6900, 7072, 48325, 33697, 49590, 37713, 19794, 24464, 18795, 43672, 45939, 9749, 51220, 26740, 29446, 24212, 40110, 16540, 11391, 11159, 12132, 16416, 7689, 8446, 39575, 26426, 34483, 28872, 11777, 50116, 12786, 24979, 41912, 33859, 32690, 48466, 43736, 20481, 49743, 10699, 8903, 18013, 11557, 2623, 24928, 33591, 36674, 23086, 31297, 18409, 19228, 8804, 1637, 23113, 15651, 33547, 31146, 11363, 26259, 8771, 21478, 29157, 42000, 6611, 25576, 1656, 40879, 2656, 41400, 14785, 49295, 47240, 44520, 14030, 49044, 52580, 4532, 17544, 43648, 28636, 20317, 2047, 26033, 8238, 6410, 1675, 8488, 5584, 1544, 14893, 20210, 38330, 23901, 6482, 18760, 17630, 7074, 32895, 39362, 16870, 10012, 38770, 8064, 47572, 37475, 941, 8200, 19000, 50653, 34335, 14234, 34545, 50107, 23050, 7012, 5042, 30560, 25914, 46288, 12362, 24612, 24382, 29870, 12741, 51383, 35547, 43995, 21595, 28435, 24508, 44148, 44534, 21114, 29814, 11485, 26988, 182, 13281, 19329, 20350, 9682, 12442, 31011, 31932, 1262, 26079, 44210, 49235, 45202, 39962, 27374, 7732, 35924, 45776, 50401, 8715, 45841, 26155, 25187, 17842, 24360, 20148, 31087, 983, 29596, 14844, 10330, 36616, 33582, 39384, 49588, 40821, 8859, 8396, 19893, 51242, 22369, 50262, 4128, 11919, 50670, 36853, 5266, 16940, 46835, 39662, 20253, 4401, 29001, 38994, 18475, 1140, 42264, 24291, 39256, 14459, 21656, 46441, 7799, 46644, 32154, 34488, 41723, 16639, 7170, 12511, 39946, 12467, 18909, 20522, 34516, 3258, 32094, 11598, 29897, 44180, 4986, 46547, 19382, 18196, 31876, 14091, 25375, 47236, 1442, 16679, 30979, 11344, 48910, 8128, 22483, 27744, 14316, 15692, 28510, 10702, 1027, 7202, 2188, 21190]\n"
     ]
    },
    {
     "ename": "IndexError",
     "evalue": "list index out of range",
     "output_type": "error",
     "traceback": [
      "\u001b[1;31m---------------------------------------------------------------------------\u001b[0m",
      "\u001b[1;31mIndexError\u001b[0m                                Traceback (most recent call last)",
      "\u001b[1;32m<ipython-input-40-bd3ca6e915c5>\u001b[0m in \u001b[0;36m<module>\u001b[1;34m\u001b[0m\n\u001b[0;32m      1\u001b[0m \u001b[0mbatch_size\u001b[0m \u001b[1;33m=\u001b[0m \u001b[1;36m1024\u001b[0m\u001b[1;33m\u001b[0m\u001b[0m\n\u001b[0;32m      2\u001b[0m \u001b[0mprint\u001b[0m\u001b[1;33m(\u001b[0m\u001b[0mn_users\u001b[0m\u001b[1;33m)\u001b[0m\u001b[1;33m\u001b[0m\u001b[0m\n\u001b[1;32m----> 3\u001b[1;33m \u001b[0musers\u001b[0m\u001b[1;33m,\u001b[0m \u001b[0mpos_items\u001b[0m\u001b[1;33m,\u001b[0m \u001b[0mneg_items\u001b[0m \u001b[1;33m=\u001b[0m \u001b[0msample\u001b[0m\u001b[1;33m(\u001b[0m\u001b[1;33m)\u001b[0m\u001b[1;33m\u001b[0m\u001b[0m\n\u001b[0m",
      "\u001b[1;32m<ipython-input-39-f0b1cc8e73ec>\u001b[0m in \u001b[0;36msample\u001b[1;34m()\u001b[0m\n\u001b[0;32m      7\u001b[0m     \u001b[0mpos_items\u001b[0m\u001b[1;33m,\u001b[0m \u001b[0mneg_items\u001b[0m \u001b[1;33m=\u001b[0m \u001b[1;33m[\u001b[0m\u001b[1;33m]\u001b[0m\u001b[1;33m,\u001b[0m \u001b[1;33m[\u001b[0m\u001b[1;33m]\u001b[0m\u001b[1;33m\u001b[0m\u001b[0m\n\u001b[0;32m      8\u001b[0m     \u001b[1;32mfor\u001b[0m \u001b[0mu\u001b[0m \u001b[1;32min\u001b[0m \u001b[0musers\u001b[0m\u001b[1;33m:\u001b[0m\u001b[1;33m\u001b[0m\u001b[0m\n\u001b[1;32m----> 9\u001b[1;33m         \u001b[0mpos_items\u001b[0m \u001b[1;33m+=\u001b[0m \u001b[0msample_pos_items_for_u\u001b[0m\u001b[1;33m(\u001b[0m\u001b[0mu\u001b[0m\u001b[1;33m,\u001b[0m \u001b[1;36m1\u001b[0m\u001b[1;33m)\u001b[0m\u001b[1;33m\u001b[0m\u001b[0m\n\u001b[0m\u001b[0;32m     10\u001b[0m         \u001b[0mneg_items\u001b[0m \u001b[1;33m+=\u001b[0m \u001b[0msample_neg_items_for_u\u001b[0m\u001b[1;33m(\u001b[0m\u001b[0mu\u001b[0m\u001b[1;33m,\u001b[0m \u001b[1;36m1\u001b[0m\u001b[1;33m)\u001b[0m\u001b[1;33m\u001b[0m\u001b[0m\n\u001b[0;32m     11\u001b[0m \u001b[1;33m\u001b[0m\u001b[0m\n",
      "\u001b[1;32m<ipython-input-33-c9e325deabe2>\u001b[0m in \u001b[0;36msample_pos_items_for_u\u001b[1;34m(u, num)\u001b[0m\n\u001b[0;32m      2\u001b[0m \u001b[1;32mdef\u001b[0m \u001b[0msample_pos_items_for_u\u001b[0m\u001b[1;33m(\u001b[0m\u001b[0mu\u001b[0m\u001b[1;33m,\u001b[0m \u001b[0mnum\u001b[0m\u001b[1;33m)\u001b[0m\u001b[1;33m:\u001b[0m\u001b[1;33m\u001b[0m\u001b[0m\n\u001b[0;32m      3\u001b[0m     \u001b[1;31m# sample num pos items for u-th user\u001b[0m\u001b[1;33m\u001b[0m\u001b[1;33m\u001b[0m\u001b[0m\n\u001b[1;32m----> 4\u001b[1;33m     \u001b[0mpos_items\u001b[0m \u001b[1;33m=\u001b[0m \u001b[0mtrain_items\u001b[0m\u001b[1;33m[\u001b[0m\u001b[0mu\u001b[0m\u001b[1;33m]\u001b[0m\u001b[1;33m\u001b[0m\u001b[0m\n\u001b[0m\u001b[0;32m      5\u001b[0m     \u001b[0mn_pos_items\u001b[0m \u001b[1;33m=\u001b[0m \u001b[0mlen\u001b[0m\u001b[1;33m(\u001b[0m\u001b[0mpos_items\u001b[0m\u001b[1;33m)\u001b[0m\u001b[1;33m\u001b[0m\u001b[0m\n\u001b[0;32m      6\u001b[0m     \u001b[0mpos_batch\u001b[0m \u001b[1;33m=\u001b[0m \u001b[1;33m[\u001b[0m\u001b[1;33m]\u001b[0m\u001b[1;33m\u001b[0m\u001b[0m\n",
      "\u001b[1;31mIndexError\u001b[0m: list index out of range"
     ]
    }
   ],
   "source": [
    "batch_size = 1024\n",
    "print(n_users)\n",
    "users, pos_items, neg_items = sample()"
   ]
  },
  {
   "cell_type": "code",
   "execution_count": 51,
   "metadata": {},
   "outputs": [
    {
     "name": "stdout",
     "output_type": "stream",
     "text": [
      "144244\n"
     ]
    }
   ],
   "source": [
    "print(n_users+n_items)"
   ]
  },
  {
   "cell_type": "code",
   "execution_count": 57,
   "metadata": {},
   "outputs": [
    {
     "name": "stdout",
     "output_type": "stream",
     "text": [
      "[[0. 1. 2. 3. 4.]\n",
      " [1. 2. 3. 4. 5.]\n",
      " [2. 3. 4. 5. 6.]\n",
      " [3. 4. 5. 6. 7.]\n",
      " [4. 5. 6. 7. 8.]]\n"
     ]
    }
   ],
   "source": [
    "import numpy as np\n",
    "from scipy.sparse import dok_matrix\n",
    "S = dok_matrix((5, 5), dtype=np.float32)\n",
    "\n",
    "for i in range(5):\n",
    "    for j in range(5):\n",
    "        S[i, j] = i + j\n",
    "        \n",
    "print(S.todense())"
   ]
  },
  {
   "cell_type": "code",
   "execution_count": 85,
   "metadata": {},
   "outputs": [
    {
     "name": "stdout",
     "output_type": "stream",
     "text": [
      "  (0, 52643)\t1.0\n",
      "  (0, 52644)\t1.0\n",
      "  (0, 52645)\t1.0\n",
      "  (0, 52646)\t1.0\n",
      "  (0, 52647)\t1.0\n",
      "  (0, 52648)\t1.0\n",
      "  (0, 52649)\t1.0\n",
      "  (0, 52650)\t1.0\n",
      "  (0, 52651)\t1.0\n",
      "  (0, 52652)\t1.0\n",
      "  (0, 52653)\t1.0\n",
      "  (0, 52654)\t1.0\n",
      "  (0, 52655)\t1.0\n",
      "  (0, 52656)\t1.0\n",
      "  (0, 52657)\t1.0\n",
      "  (0, 52658)\t1.0\n",
      "  (0, 52659)\t1.0\n",
      "  (0, 52660)\t1.0\n",
      "  (0, 52661)\t1.0\n",
      "  (0, 52662)\t1.0\n",
      "  (0, 52663)\t1.0\n",
      "  (0, 52664)\t1.0\n",
      "  (0, 52665)\t1.0\n",
      "  (0, 52666)\t1.0\n",
      "  (0, 52667)\t1.0\n",
      "  :\t:\n",
      "  (144218, 52477)\t1.0\n",
      "  (144218, 52493)\t1.0\n",
      "  (144219, 52477)\t1.0\n",
      "  (144220, 52477)\t1.0\n",
      "  (144221, 52477)\t1.0\n",
      "  (144222, 52477)\t1.0\n",
      "  (144223, 52477)\t1.0\n",
      "  (144224, 52477)\t1.0\n",
      "  (144225, 52477)\t1.0\n",
      "  (144226, 52477)\t1.0\n",
      "  (144227, 52477)\t1.0\n",
      "  (144228, 52481)\t1.0\n",
      "  (144229, 52481)\t1.0\n",
      "  (144230, 52487)\t1.0\n",
      "  (144231, 52489)\t1.0\n",
      "  (144232, 52495)\t1.0\n",
      "  (144233, 52502)\t1.0\n",
      "  (144234, 52502)\t1.0\n",
      "  (144235, 52503)\t1.0\n",
      "  (144236, 52504)\t1.0\n",
      "  (144237, 52506)\t1.0\n",
      "  (144238, 52506)\t1.0\n",
      "  (144239, 52506)\t1.0\n",
      "  (144240, 52508)\t1.0\n",
      "  (144241, 52508)\t1.0\n"
     ]
    }
   ],
   "source": [
    "import scipy.sparse as sp\n",
    "import torch\n",
    "adj_mat = sp.load_npz(path + 's_adj_mat.npz')\n",
    "rowsum = np.array(adj_mat.sum(1))\n",
    "print(adj_mat)\n",
    "\n",
    "rowsum = np.array(adj_mat.sum(1))\n",
    "d_inv = np.power(rowsum, -0.5).flatten()\n",
    "d_inv[np.isinf(d_inv)] = 0.\n",
    "d_mat_inv = sp.diags(d_inv)\n",
    "\n",
    "norm_adj = d_mat_inv.dot(adj_mat)\n",
    "norm_adj = norm_adj.dot(d_mat_inv)\n",
    "print('generate pre adjacency matrix.')\n",
    "pre_adj_mat = norm_adj.tocsr()"
   ]
  },
  {
   "cell_type": "code",
   "execution_count": null,
   "metadata": {},
   "outputs": [],
   "source": []
  }
 ],
 "metadata": {
  "accelerator": "GPU",
  "colab": {
   "authorship_tag": "ABX9TyMzOImdGqF0KHOCQfJfrSzK",
   "collapsed_sections": [],
   "mount_file_id": "1386DQ1MfDB3nLhcdEqDnoY7ap78IZGrz",
   "name": "NGCF-01.ipynb",
   "provenance": []
  },
  "kernelspec": {
   "display_name": "Python 3",
   "language": "python",
   "name": "python3"
  },
  "language_info": {
   "codemirror_mode": {
    "name": "ipython",
    "version": 3
   },
   "file_extension": ".py",
   "mimetype": "text/x-python",
   "name": "python",
   "nbconvert_exporter": "python",
   "pygments_lexer": "ipython3",
   "version": "3.7.0"
  }
 },
 "nbformat": 4,
 "nbformat_minor": 1
}
